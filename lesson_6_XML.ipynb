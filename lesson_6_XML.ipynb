{
 "cells": [
  {
   "cell_type": "code",
   "execution_count": 1,
   "id": "7174bc72",
   "metadata": {},
   "outputs": [],
   "source": [
    "# TIP: use the inspect module to learn about modules/packages\n",
    "# neater than dir() or help()\n",
    "from inspect import getmembers, isclass, isfunction"
   ]
  },
  {
   "cell_type": "code",
   "execution_count": 3,
   "id": "ed6411f5",
   "metadata": {},
   "outputs": [
    {
     "name": "stdout",
     "output_type": "stream",
     "text": [
      "Comment\n",
      "PI\n",
      "ProcessingInstruction\n",
      "XML\n",
      "XMLID\n",
      "canonicalize\n",
      "dump\n",
      "fromstring\n",
      "fromstringlist\n",
      "indent\n",
      "iselement\n",
      "iterparse\n",
      "parse\n",
      "register_namespace\n",
      "tostring\n",
      "tostringlist\n"
     ]
    }
   ],
   "source": [
    "# packages can be renamed to make it easier to navigate the namespace\n",
    "import xml.etree.ElementTree as ET\n",
    "\n",
    "# you can use the inspect module to identify the available functions of a module\n",
    "for (name, member) in getmembers(ET, isfunction):\n",
    "        if not name.startswith(\"_\"):\n",
    "            print(name)"
   ]
  },
  {
   "cell_type": "code",
   "execution_count": null,
   "id": "a4ff3a60",
   "metadata": {},
   "outputs": [],
   "source": [
    "# a tree structure consists of nodes, each of which has 1 parent and 0 or more children.\n",
    "# XML documents are trees where each node is an element, meaning a pair of tags."
   ]
  },
  {
   "cell_type": "code",
   "execution_count": 6,
   "id": "268d9cd2",
   "metadata": {},
   "outputs": [
    {
     "name": "stdout",
     "output_type": "stream",
     "text": [
      "Help on function parse in module xml.etree.ElementTree:\n",
      "\n",
      "parse(source, parser=None)\n",
      "    Parse XML document into element tree.\n",
      "    \n",
      "    *source* is a filename or file object containing XML data,\n",
      "    *parser* is an optional parser instance defaulting to XMLParser.\n",
      "    \n",
      "    Return an ElementTree instance.\n",
      "\n"
     ]
    }
   ],
   "source": [
    "# use the parse() function to turn an xml document into a tree object.\n",
    "help(ET.parse)\n",
    "tree = ET.parse(\"xml/simple.xml\")"
   ]
  },
  {
   "cell_type": "code",
   "execution_count": 7,
   "id": "332ae171",
   "metadata": {},
   "outputs": [],
   "source": [
    "#manipulate the root element\n",
    "root = tree.getroot()\n"
   ]
  },
  {
   "cell_type": "code",
   "execution_count": 8,
   "id": "4a868180",
   "metadata": {},
   "outputs": [],
   "source": [
    "#create a new element from text\n",
    "elementobj = ET.fromstring(\"<name>Mr. Awesome</name>\")\n"
   ]
  },
  {
   "cell_type": "code",
   "execution_count": 9,
   "id": "6d1cd6ff",
   "metadata": {},
   "outputs": [],
   "source": [
    "#add new element to the DOM\n",
    "root.append(elementobj)"
   ]
  },
  {
   "cell_type": "code",
   "execution_count": 10,
   "id": "4da46e1c",
   "metadata": {},
   "outputs": [],
   "source": [
    "#write the new XML file\n",
    "tree.write(\"doc.xml\")"
   ]
  },
  {
   "cell_type": "code",
   "execution_count": 11,
   "id": "8338adf0",
   "metadata": {},
   "outputs": [],
   "source": [
    "#find an element with a particular attribute\n",
    "foundobj = tree.find(\".//tagname[@n='value']\")\n"
   ]
  },
  {
   "cell_type": "code",
   "execution_count": 19,
   "id": "a3df2983",
   "metadata": {},
   "outputs": [],
   "source": [
    "#find an element with a particular text value\n",
    "foundobj = tree.find(\"[name='Mr. Awesome']\")\n",
    "del(foundobj)"
   ]
  },
  {
   "cell_type": "code",
   "execution_count": null,
   "id": "fa838412",
   "metadata": {},
   "outputs": [],
   "source": []
  },
  {
   "cell_type": "code",
   "execution_count": null,
   "id": "849ec00c",
   "metadata": {},
   "outputs": [],
   "source": []
  }
 ],
 "metadata": {
  "kernelspec": {
   "display_name": "Python 3",
   "language": "python",
   "name": "python3"
  },
  "language_info": {
   "codemirror_mode": {
    "name": "ipython",
    "version": 3
   },
   "file_extension": ".py",
   "mimetype": "text/x-python",
   "name": "python",
   "nbconvert_exporter": "python",
   "pygments_lexer": "ipython3",
   "version": "3.9.7"
  }
 },
 "nbformat": 4,
 "nbformat_minor": 5
}
