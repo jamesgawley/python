{
 "cells": [
  {
   "cell_type": "code",
   "execution_count": null,
   "id": "7a3cfe42",
   "metadata": {},
   "outputs": [],
   "source": [
    "# TIP: use the inspect module to learn about modules/packages\n",
    "# neater than dir() or help()\n",
    "from inspect import getmembers, isclass, isfunction"
   ]
  },
  {
   "cell_type": "code",
   "execution_count": null,
   "id": "78c57f24",
   "metadata": {},
   "outputs": [],
   "source": [
    "# packages can be renamed to make it easier to navigate the namespace\n",
    "import xml.etree.ElementTree as ET\n",
    "\n",
    "# you can use the inspect module to identify the available functions of a module\n",
    "for (name, member) in getmembers(os, isfunction):\n",
    "        if not name.startswith(\"_\"):\n",
    "            print(name)"
   ]
  },
  {
   "cell_type": "code",
   "execution_count": null,
   "id": "5d65d5ef",
   "metadata": {},
   "outputs": [],
   "source": [
    "# a tree structure consists of nodes, each of which has 1 parent and 0 or more children.\n",
    "# XML documents are trees where each node is an element, meaning a pair of tags."
   ]
  },
  {
   "cell_type": "code",
   "execution_count": null,
   "id": "a4c34d2e",
   "metadata": {},
   "outputs": [],
   "source": [
    "# use the parse() function to turn an xml document into a tree object.\n",
    "help(ET.parse)\n",
    "tree = ET.parse(\"xml/simple.xml\")"
   ]
  },
  {
   "cell_type": "code",
   "execution_count": null,
   "id": "c7f2ecea",
   "metadata": {},
   "outputs": [],
   "source": [
    "#manipulate the root element\n",
    "root = tree.getroot()\n"
   ]
  },
  {
   "cell_type": "code",
   "execution_count": null,
   "id": "cd46d1ef",
   "metadata": {},
   "outputs": [],
   "source": [
    "#create a new element from text\n",
    "elementobj = ET.fromstring(\"<name>Mr. Awesome</name>\")\n"
   ]
  },
  {
   "cell_type": "code",
   "execution_count": null,
   "id": "109be5af",
   "metadata": {},
   "outputs": [],
   "source": [
    "#add new element to the DOM\n",
    "root.append(elementobj)"
   ]
  },
  {
   "cell_type": "code",
   "execution_count": null,
   "id": "a414d0bc",
   "metadata": {},
   "outputs": [],
   "source": [
    "#write the new XML file\n",
    "tree.write(\"doc.xml\")"
   ]
  },
  {
   "cell_type": "code",
   "execution_count": null,
   "id": "7001b7e6",
   "metadata": {},
   "outputs": [],
   "source": [
    "#find an element with a particular attribute\n",
    "foundobj = tree.find(\".//tagname[@n='value']\")\n"
   ]
  },
  {
   "cell_type": "code",
   "execution_count": null,
   "id": "6994074a",
   "metadata": {},
   "outputs": [],
   "source": [
    "#find an element with a particular text value\n",
    "foundobj = tree.find(\"[name='Mr. Awesome']\")\n",
    "del(foundobj)"
   ]
  },
  {
   "cell_type": "code",
   "execution_count": null,
   "id": "c47984a2",
   "metadata": {},
   "outputs": [],
   "source": []
  },
  {
   "cell_type": "code",
   "execution_count": null,
   "id": "08359adc",
   "metadata": {},
   "outputs": [],
   "source": []
  }
 ],
 "metadata": {
  "kernelspec": {
   "display_name": "Python 3",
   "language": "python",
   "name": "python3"
  },
  "language_info": {
   "codemirror_mode": {
    "name": "ipython",
    "version": 3
   },
   "file_extension": ".py",
   "mimetype": "text/x-python",
   "name": "python",
   "nbconvert_exporter": "python",
   "pygments_lexer": "ipython3",
   "version": "3.9.7"
  }
 },
 "nbformat": 4,
 "nbformat_minor": 5
}
