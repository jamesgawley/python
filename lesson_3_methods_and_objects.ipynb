{
 "cells": [
  {
   "cell_type": "code",
   "execution_count": 5,
   "id": "12aa6271",
   "metadata": {},
   "outputs": [],
   "source": [
    "# programming is about automating tasks.\n",
    "# If you need to repeat a task on many objects, create a method.\n",
    "\n",
    "def addOne (myList):\n",
    "    lengthObject = len(myList)\n",
    "    rangeObject = range(lengthObject)\n",
    "    for i in rangeObject:\n",
    "        myList[i] = myList[i] + 1\n",
    "    return(myList)\n",
    "\n",
    "# the 'def' operator tells python we're about to define a method.\n",
    "# we can pass objects into our method to be operated upon by naming them in parentheses\n",
    "# we pass results back out of the object through the 'return' statement"
   ]
  },
  {
   "cell_type": "code",
   "execution_count": 6,
   "id": "76d9e14c",
   "metadata": {},
   "outputs": [
    {
     "data": {
      "text/plain": [
       "[2, 3, 4, 5]"
      ]
     },
     "execution_count": 6,
     "metadata": {},
     "output_type": "execute_result"
    }
   ],
   "source": [
    "# test it out on a list:\n",
    "myList = [1,2,3,4,5]\n",
    "addOne(myList)"
   ]
  },
  {
   "cell_type": "code",
   "execution_count": 44,
   "id": "e0c38640",
   "metadata": {},
   "outputs": [
    {
     "name": "stdout",
     "output_type": "stream",
     "text": [
      "Python is hard.... That's what she said.\n"
     ]
    }
   ],
   "source": [
    "# ASSIGNMENT: write a method to add \"... That's what she said.\" to the end of any string.\n",
    "def childishNonsense(aString):\n",
    "    print(aString + \"... That's what she said.\")\n",
    "\n",
    "childishNonsense(\"Python is hard.\")"
   ]
  },
  {
   "cell_type": "code",
   "execution_count": null,
   "id": "f845bed5",
   "metadata": {},
   "outputs": [],
   "source": [
    "# an object in python contains both variables and methods.\n",
    "# When you create an object, it contains all the default methods and variables of its class.\n",
    "# we have already worked with a class of object called a list.\n",
    "# list objects have default methods. The 'pop' method removes and returns the last list item.\n",
    "myList.pop()"
   ]
  },
  {
   "cell_type": "code",
   "execution_count": 7,
   "id": "6d757f95",
   "metadata": {},
   "outputs": [
    {
     "name": "stdout",
     "output_type": "stream",
     "text": [
      "[2, 3, 4, 5]\n"
     ]
    }
   ],
   "source": [
    "# once we have called the pop() method, myList has been shortened.\n",
    "print(myList)"
   ]
  },
  {
   "cell_type": "code",
   "execution_count": 4,
   "id": "dfc51897",
   "metadata": {},
   "outputs": [
    {
     "name": "stdout",
     "output_type": "stream",
     "text": [
      "Help on list object:\n",
      "\n",
      "class list(object)\n",
      " |  list(iterable=(), /)\n",
      " |  \n",
      " |  Built-in mutable sequence.\n",
      " |  \n",
      " |  If no argument is given, the constructor creates a new empty list.\n",
      " |  The argument must be an iterable if specified.\n",
      " |  \n",
      " |  Methods defined here:\n",
      " |  \n",
      " |  __add__(self, value, /)\n",
      " |      Return self+value.\n",
      " |  \n",
      " |  __contains__(self, key, /)\n",
      " |      Return key in self.\n",
      " |  \n",
      " |  __delitem__(self, key, /)\n",
      " |      Delete self[key].\n",
      " |  \n",
      " |  __eq__(self, value, /)\n",
      " |      Return self==value.\n",
      " |  \n",
      " |  __ge__(self, value, /)\n",
      " |      Return self>=value.\n",
      " |  \n",
      " |  __getattribute__(self, name, /)\n",
      " |      Return getattr(self, name).\n",
      " |  \n",
      " |  __getitem__(...)\n",
      " |      x.__getitem__(y) <==> x[y]\n",
      " |  \n",
      " |  __gt__(self, value, /)\n",
      " |      Return self>value.\n",
      " |  \n",
      " |  __iadd__(self, value, /)\n",
      " |      Implement self+=value.\n",
      " |  \n",
      " |  __imul__(self, value, /)\n",
      " |      Implement self*=value.\n",
      " |  \n",
      " |  __init__(self, /, *args, **kwargs)\n",
      " |      Initialize self.  See help(type(self)) for accurate signature.\n",
      " |  \n",
      " |  __iter__(self, /)\n",
      " |      Implement iter(self).\n",
      " |  \n",
      " |  __le__(self, value, /)\n",
      " |      Return self<=value.\n",
      " |  \n",
      " |  __len__(self, /)\n",
      " |      Return len(self).\n",
      " |  \n",
      " |  __lt__(self, value, /)\n",
      " |      Return self<value.\n",
      " |  \n",
      " |  __mul__(self, value, /)\n",
      " |      Return self*value.\n",
      " |  \n",
      " |  __ne__(self, value, /)\n",
      " |      Return self!=value.\n",
      " |  \n",
      " |  __repr__(self, /)\n",
      " |      Return repr(self).\n",
      " |  \n",
      " |  __reversed__(self, /)\n",
      " |      Return a reverse iterator over the list.\n",
      " |  \n",
      " |  __rmul__(self, value, /)\n",
      " |      Return value*self.\n",
      " |  \n",
      " |  __setitem__(self, key, value, /)\n",
      " |      Set self[key] to value.\n",
      " |  \n",
      " |  __sizeof__(self, /)\n",
      " |      Return the size of the list in memory, in bytes.\n",
      " |  \n",
      " |  append(self, object, /)\n",
      " |      Append object to the end of the list.\n",
      " |  \n",
      " |  clear(self, /)\n",
      " |      Remove all items from list.\n",
      " |  \n",
      " |  copy(self, /)\n",
      " |      Return a shallow copy of the list.\n",
      " |  \n",
      " |  count(self, value, /)\n",
      " |      Return number of occurrences of value.\n",
      " |  \n",
      " |  extend(self, iterable, /)\n",
      " |      Extend list by appending elements from the iterable.\n",
      " |  \n",
      " |  index(self, value, start=0, stop=9223372036854775807, /)\n",
      " |      Return first index of value.\n",
      " |      \n",
      " |      Raises ValueError if the value is not present.\n",
      " |  \n",
      " |  insert(self, index, object, /)\n",
      " |      Insert object before index.\n",
      " |  \n",
      " |  pop(self, index=-1, /)\n",
      " |      Remove and return item at index (default last).\n",
      " |      \n",
      " |      Raises IndexError if list is empty or index is out of range.\n",
      " |  \n",
      " |  remove(self, value, /)\n",
      " |      Remove first occurrence of value.\n",
      " |      \n",
      " |      Raises ValueError if the value is not present.\n",
      " |  \n",
      " |  reverse(self, /)\n",
      " |      Reverse *IN PLACE*.\n",
      " |  \n",
      " |  sort(self, /, *, key=None, reverse=False)\n",
      " |      Sort the list in ascending order and return None.\n",
      " |      \n",
      " |      The sort is in-place (i.e. the list itself is modified) and stable (i.e. the\n",
      " |      order of two equal elements is maintained).\n",
      " |      \n",
      " |      If a key function is given, apply it once to each list item and sort them,\n",
      " |      ascending or descending, according to their function values.\n",
      " |      \n",
      " |      The reverse flag can be set to sort in descending order.\n",
      " |  \n",
      " |  ----------------------------------------------------------------------\n",
      " |  Class methods defined here:\n",
      " |  \n",
      " |  __class_getitem__(...) from builtins.type\n",
      " |      See PEP 585\n",
      " |  \n",
      " |  ----------------------------------------------------------------------\n",
      " |  Static methods defined here:\n",
      " |  \n",
      " |  __new__(*args, **kwargs) from builtins.type\n",
      " |      Create and return a new object.  See help(type) for accurate signature.\n",
      " |  \n",
      " |  ----------------------------------------------------------------------\n",
      " |  Data and other attributes defined here:\n",
      " |  \n",
      " |  __hash__ = None\n",
      "\n"
     ]
    }
   ],
   "source": [
    "# there are two ways to learn about what an object does.\n",
    "# the first is 'help'. Try calling help() on myList and scroll down to pop()\n",
    "help(myList)"
   ]
  },
  {
   "cell_type": "code",
   "execution_count": 8,
   "id": "abeff763",
   "metadata": {},
   "outputs": [
    {
     "name": "stdout",
     "output_type": "stream",
     "text": [
      "Help on built-in function pop:\n",
      "\n",
      "pop(index=-1, /) method of builtins.list instance\n",
      "    Remove and return item at index (default last).\n",
      "    \n",
      "    Raises IndexError if list is empty or index is out of range.\n",
      "\n"
     ]
    }
   ],
   "source": [
    "# you can look more specifically at the documentation for pop() like this:\n",
    "help(myList.pop)"
   ]
  },
  {
   "cell_type": "code",
   "execution_count": null,
   "id": "e05c5c41",
   "metadata": {},
   "outputs": [],
   "source": [
    "# ASSIGNMENT: use the builtin 'pop' method to remove an item from the *middle* of myList"
   ]
  },
  {
   "cell_type": "code",
   "execution_count": 10,
   "id": "cb95e6ef",
   "metadata": {},
   "outputs": [
    {
     "data": {
      "text/plain": [
       "4"
      ]
     },
     "execution_count": 10,
     "metadata": {},
     "output_type": "execute_result"
    }
   ],
   "source": [
    "myList.pop(2)"
   ]
  },
  {
   "cell_type": "code",
   "execution_count": 11,
   "id": "e20a4a1d",
   "metadata": {},
   "outputs": [
    {
     "data": {
      "text/plain": [
       "[2, 3, 5]"
      ]
     },
     "execution_count": 11,
     "metadata": {},
     "output_type": "execute_result"
    }
   ],
   "source": [
    "myList"
   ]
  },
  {
   "cell_type": "code",
   "execution_count": 37,
   "id": "bf47a1e8",
   "metadata": {},
   "outputs": [],
   "source": [
    "# we can define our own classes using the 'class' statement.\n",
    "# our classes can inherit from builtin classes.\n",
    "# the following defines a class that's just like the 'list' class, but with one more method.\n",
    "class enhancedList(list):\n",
    "    def addOne (myList):\n",
    "        \"\"\"     Increment each item in the list by 1.\n",
    "                Raises TypeError if any list item is not integer.\"\"\"\n",
    "        lengthObject = len(myList)\n",
    "        rangeObject = range(lengthObject)\n",
    "        for i in rangeObject:\n",
    "            myList[i] = myList[i] + 1\n",
    "        return(myList)\n"
   ]
  },
  {
   "cell_type": "code",
   "execution_count": 38,
   "id": "ea5aff21",
   "metadata": {},
   "outputs": [],
   "source": [
    "# to create (instatiate) a list of our new class, we call the enhancedList() method\n",
    "myEnhancedList = enhancedList()"
   ]
  },
  {
   "cell_type": "code",
   "execution_count": 39,
   "id": "9755e907",
   "metadata": {},
   "outputs": [],
   "source": [
    "# by default, this creates an empty list. To fill the list with numbers, use .extend()\n",
    "myEnhancedList.extend([1,2,3,4,5])\n",
    "\n",
    "# 'extend' is a method inherited from the 'list' class.\n",
    "# this is necessary because myEnhancedList = [1,2,3,4,5] will delete the enhancedList object,\n",
    "# replacing it with a regular list containing those values. Our addOne() method will be gone."
   ]
  },
  {
   "cell_type": "code",
   "execution_count": 40,
   "id": "9f5e9936",
   "metadata": {},
   "outputs": [
    {
     "data": {
      "text/plain": [
       "[1, 2, 3, 4, 5]"
      ]
     },
     "execution_count": 40,
     "metadata": {},
     "output_type": "execute_result"
    }
   ],
   "source": [
    "myEnhancedList"
   ]
  },
  {
   "cell_type": "code",
   "execution_count": 41,
   "id": "83598d2a",
   "metadata": {},
   "outputs": [
    {
     "data": {
      "text/plain": [
       "[2, 3, 4, 5, 6]"
      ]
     },
     "execution_count": 41,
     "metadata": {},
     "output_type": "execute_result"
    }
   ],
   "source": [
    "myEnhancedList.addOne()\n"
   ]
  },
  {
   "cell_type": "code",
   "execution_count": 42,
   "id": "f7060985",
   "metadata": {},
   "outputs": [
    {
     "name": "stdout",
     "output_type": "stream",
     "text": [
      "Help on method addOne in module __main__:\n",
      "\n",
      "addOne() method of __main__.enhancedList instance\n",
      "    Increment each item in the list by 1.\n",
      "    Raises TypeError if any list item is not integer.\n",
      "\n"
     ]
    }
   ],
   "source": [
    "help(myEnhancedList.addOne)"
   ]
  },
  {
   "cell_type": "code",
   "execution_count": null,
   "id": "e4dda9ec",
   "metadata": {},
   "outputs": [],
   "source": [
    "# ASSIGNMENT: create new class specialList with a method that prints the statement:\n",
    "# \"Item number __ in the list is ___.\" for each item in the list."
   ]
  },
  {
   "cell_type": "code",
   "execution_count": null,
   "id": "ade9b297",
   "metadata": {},
   "outputs": [],
   "source": [
    "# The following is an example of an 'original' class:\n",
    "class Person:\n",
    "  def __init__(self, name, age):\n",
    "    self.name = name\n",
    "    self.age = age\n",
    "\n",
    "# the __init__ method is necessary for classes that "
   ]
  }
 ],
 "metadata": {
  "kernelspec": {
   "display_name": "Python 3",
   "language": "python",
   "name": "python3"
  },
  "language_info": {
   "codemirror_mode": {
    "name": "ipython",
    "version": 3
   },
   "file_extension": ".py",
   "mimetype": "text/x-python",
   "name": "python",
   "nbconvert_exporter": "python",
   "pygments_lexer": "ipython3",
   "version": "3.9.7"
  }
 },
 "nbformat": 4,
 "nbformat_minor": 5
}
