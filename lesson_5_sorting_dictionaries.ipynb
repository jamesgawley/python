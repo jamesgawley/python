{
 "cells": [
  {
   "cell_type": "code",
   "execution_count": 40,
   "id": "c4b44e37",
   "metadata": {},
   "outputs": [
    {
     "name": "stdout",
     "output_type": "stream",
     "text": [
      "['Jeff', 'Bill', 'Steve', 'Yash']\n"
     ]
    }
   ],
   "source": [
    "# to sort a python dictionary by its values, we have to turn it into a tuple\n",
    "# tuples are like lists, but they can't be changed.\n",
    "# tuples use () instead of [] in their definition statements.\n",
    "names = ('Jeff', 'Bill', 'Steve', 'Yash')\n",
    "print(names)"
   ]
  },
  {
   "cell_type": "code",
   "execution_count": 41,
   "id": "e2b93b0e",
   "metadata": {},
   "outputs": [
    {
     "data": {
      "text/plain": [
       "'Jeff'"
      ]
     },
     "execution_count": 41,
     "metadata": {},
     "output_type": "execute_result"
    }
   ],
   "source": [
    "# Access tuple items just like list items\n",
    "names[0]"
   ]
  },
  {
   "cell_type": "code",
   "execution_count": 43,
   "id": "c0a8c896",
   "metadata": {},
   "outputs": [
    {
     "name": "stdout",
     "output_type": "stream",
     "text": [
      "Ted\n"
     ]
    }
   ],
   "source": [
    "# but don't try to change them...\n",
    "names[0] = \"Ted\""
   ]
  },
  {
   "cell_type": "code",
   "execution_count": 48,
   "id": "4890919d",
   "metadata": {},
   "outputs": [
    {
     "data": {
      "text/plain": [
       "'two'"
      ]
     },
     "execution_count": 48,
     "metadata": {},
     "output_type": "execute_result"
    }
   ],
   "source": [
    "# lists and tuples can be 'nested.' You can have a list of lists.\n",
    "listOfLists = [[\"nested\", 'list', 'one'], ['nested', 'list', 'two']]\n",
    "listOfLists[1][2]"
   ]
  },
  {
   "cell_type": "code",
   "execution_count": 50,
   "id": "aa7b82d5",
   "metadata": {},
   "outputs": [
    {
     "data": {
      "text/plain": [
       "dict_items([('armum', 'noun, neuter. The latin word for weapon.'), ('amo', \"verb, 1st conjugation. The latin word for 'love.'\"), ('list', [1, 2, 'hi there'])])"
      ]
     },
     "execution_count": 50,
     "metadata": {},
     "output_type": "execute_result"
    }
   ],
   "source": [
    "# dictionaries have a special function that returns their contents as a list of tuples\n",
    "from worldGreatestPackage import myDictionary\n",
    "myDictionary.items()"
   ]
  },
  {
   "cell_type": "code",
   "execution_count": 13,
   "id": "f964fc17",
   "metadata": {},
   "outputs": [
    {
     "name": "stdout",
     "output_type": "stream",
     "text": [
      "[('armum', 'noun, neuter. The latin word for weapon.'), ('amo', \"verb, 1st conjugation. The latin word for 'love.'\"), ('list', [1, 2, 'hi there'])]\n"
     ]
    }
   ],
   "source": [
    "# (actually this list type is unique, so we need to convert to a standard list)\n",
    "listOfTuples = list(myDictionary.items())\n",
    "print(listOfTuples)"
   ]
  },
  {
   "cell_type": "code",
   "execution_count": null,
   "id": "da7774c7",
   "metadata": {},
   "outputs": [],
   "source": [
    "# Notice the square brackets and the parentheses. The tuples are immutable; the list is not."
   ]
  },
  {
   "cell_type": "code",
   "execution_count": 54,
   "id": "ef46e6af",
   "metadata": {},
   "outputs": [
    {
     "name": "stdout",
     "output_type": "stream",
     "text": [
      "[('Balzac', 4), ('Honoré', 3), ('de', 157)]\n"
     ]
    },
    {
     "data": {
      "text/plain": [
       "[5, 4, 158]"
      ]
     },
     "execution_count": 54,
     "metadata": {},
     "output_type": "execute_result"
    }
   ],
   "source": [
    "# you can sort a dictionary the 'sorted()' function, but by default it will sort by keys.\n",
    "d1 = {'Honoré': 3, 'de': 157, 'Balzac': 4}\n",
    "listOfTuples = sorted(d1.items())\n",
    "print(listOfTuples)"
   ]
  },
  {
   "cell_type": "code",
   "execution_count": 32,
   "id": "889e99ff",
   "metadata": {},
   "outputs": [
    {
     "name": "stdout",
     "output_type": "stream",
     "text": [
      "[('de', 157), ('balzac', 4), ('honoré', 3)]\n"
     ]
    }
   ],
   "source": [
    "# to sort by value, you have to use the 'lambda' keyword to write a mini-function:\n",
    "listOfTuples = sorted(d1.items(), key=lambda x:x[1], reverse = True)\n",
    "print(listOfTuples)"
   ]
  },
  {
   "cell_type": "code",
   "execution_count": 62,
   "id": "5743b499",
   "metadata": {},
   "outputs": [
    {
     "name": "stdout",
     "output_type": "stream",
     "text": [
      "[('de', 157)]\n",
      "de\n"
     ]
    }
   ],
   "source": [
    "# ASSIGNMENT: write a function to sort type/token dictionaries from your texts and select \n",
    "# the n-most common words.\n",
    "# declare a function that takes a dictionary an 'n' value\n",
    "def nMostCommon(dictionary, n):\n",
    "    listOfTuples = sorted(dictionary.items(), key=lambda x:x[1], reverse = True)\n",
    "    return(listOfTuples[0:n])\n",
    "\n",
    "print(nMostCommon(d1, 1))\n",
    "print(nMostCommon(d1, 1)[0][0])"
   ]
  },
  {
   "cell_type": "code",
   "execution_count": null,
   "id": "3bd6e0fa",
   "metadata": {},
   "outputs": [],
   "source": []
  }
 ],
 "metadata": {
  "kernelspec": {
   "display_name": "Python 3",
   "language": "python",
   "name": "python3"
  },
  "language_info": {
   "codemirror_mode": {
    "name": "ipython",
    "version": 3
   },
   "file_extension": ".py",
   "mimetype": "text/x-python",
   "name": "python",
   "nbconvert_exporter": "python",
   "pygments_lexer": "ipython3",
   "version": "3.9.7"
  }
 },
 "nbformat": 4,
 "nbformat_minor": 5
}
