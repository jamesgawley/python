{
 "cells": [
  {
   "cell_type": "code",
   "execution_count": 6,
   "id": "dcb3e625",
   "metadata": {},
   "outputs": [],
   "source": [
    "# numeric variables in python work the way they do in Algebra class.\n",
    "# the following are statements:\n",
    "x = 1\n",
    "y = x + 1"
   ]
  },
  {
   "cell_type": "code",
   "execution_count": 18,
   "id": "8b279606",
   "metadata": {},
   "outputs": [
    {
     "data": {
      "text/plain": [
       "1"
      ]
     },
     "execution_count": 18,
     "metadata": {},
     "output_type": "execute_result"
    }
   ],
   "source": [
    "# there are two ways to print the contents of a variable.\n",
    "# first, you can write a statement that consists of the variable and nothing else.\n",
    "x"
   ]
  },
  {
   "cell_type": "code",
   "execution_count": 19,
   "id": "00c12904",
   "metadata": {},
   "outputs": [
    {
     "name": "stdout",
     "output_type": "stream",
     "text": [
      "2\n"
     ]
    }
   ],
   "source": [
    "# the bare statement 'returns' the value stored in x\n",
    "# you can also call the 'print' command.\n",
    "# the evaluates the statement in parantheses and prints it.\n",
    "print(y)"
   ]
  },
  {
   "cell_type": "code",
   "execution_count": 20,
   "id": "e81fe810",
   "metadata": {},
   "outputs": [
    {
     "name": "stdout",
     "output_type": "stream",
     "text": [
      "Hello, world.\n"
     ]
    }
   ],
   "source": [
    "# the difference is that a print statement isn't a floating, 'leftover' result. \n",
    "# (Note the 'out' message in red above)\n",
    "# we can also store words and sentences in a variable called a string.\n",
    "myString = \"Hello, world.\"\n",
    "print(myString)"
   ]
  },
  {
   "cell_type": "code",
   "execution_count": 21,
   "id": "50b290dd",
   "metadata": {},
   "outputs": [
    {
     "data": {
      "text/plain": [
       "2"
      ]
     },
     "execution_count": 21,
     "metadata": {},
     "output_type": "execute_result"
    }
   ],
   "source": [
    "# strings are lists of characters. A list is a special type of variable.\n",
    "myList = [1, 2, 1000000]\n",
    "# you can access any part of a list by its address. Addresses begin at zero.\n",
    "myList[1]"
   ]
  },
  {
   "cell_type": "code",
   "execution_count": 15,
   "id": "7f4c7851",
   "metadata": {},
   "outputs": [],
   "source": [
    "# ASSIGNMENT: in the above example, why did we receive the output '2'? \n",
    "# How can we alter the last statement to receive the output '1' or '1000000'?\n",
    "myList[ ]   #<- hint: fill in the blank"
   ]
  },
  {
   "cell_type": "code",
   "execution_count": 22,
   "id": "b253a2a1",
   "metadata": {},
   "outputs": [
    {
     "data": {
      "text/plain": [
       "'H'"
      ]
     },
     "execution_count": 22,
     "metadata": {},
     "output_type": "execute_result"
    }
   ],
   "source": [
    "# if a string is a list of characters, how can we return the letter 'H' from myString?\n",
    "myString[0]"
   ]
  },
  {
   "cell_type": "code",
   "execution_count": 24,
   "id": "2bf1474d",
   "metadata": {},
   "outputs": [
    {
     "data": {
      "text/plain": [
       "'Hello'"
      ]
     },
     "execution_count": 24,
     "metadata": {},
     "output_type": "execute_result"
    }
   ],
   "source": [
    "# we can also use the colon ':' to define a sequence in the list.\n",
    "myString[0:5]"
   ]
  },
  {
   "cell_type": "code",
   "execution_count": 25,
   "id": "22ed51c1",
   "metadata": {},
   "outputs": [
    {
     "data": {
      "text/plain": [
       "'.'"
      ]
     },
     "execution_count": 25,
     "metadata": {},
     "output_type": "execute_result"
    }
   ],
   "source": [
    "# QUESTION: what is strange about the result above?\n",
    "# there is a special syntax for retrieving the last item in any list:\n",
    "myString[-1]"
   ]
  },
  {
   "cell_type": "code",
   "execution_count": 27,
   "id": "1b6a0f2b",
   "metadata": {},
   "outputs": [
    {
     "data": {
      "text/plain": [
       "'rld.'"
      ]
     },
     "execution_count": 27,
     "metadata": {},
     "output_type": "execute_result"
    }
   ],
   "source": [
    "# this works because address 0 was 'H'; when you subtract one, you move to the right-hand\n",
    "# side of the list. QUESTION: what do you thing the following statment will return?\n",
    "myString[-4:]"
   ]
  },
  {
   "cell_type": "code",
   "execution_count": 32,
   "id": "6bbf9346",
   "metadata": {},
   "outputs": [
    {
     "name": "stdout",
     "output_type": "stream",
     "text": [
      "Hello, world. It's nice to meet you.\n"
     ]
    }
   ],
   "source": [
    "# concatenation can join together two strings.\n",
    "newString = myString + \" It's nice to meet you.\"\n",
    "print(newString)"
   ]
  },
  {
   "cell_type": "code",
   "execution_count": 33,
   "id": "cc66a9cc",
   "metadata": {},
   "outputs": [
    {
     "ename": "TypeError",
     "evalue": "can only concatenate str (not \"int\") to str",
     "output_type": "error",
     "traceback": [
      "\u001b[0;31m---------------------------------------------------------------------------\u001b[0m",
      "\u001b[0;31mTypeError\u001b[0m                                 Traceback (most recent call last)",
      "\u001b[0;32m<ipython-input-33-87905273d84e>\u001b[0m in \u001b[0;36m<module>\u001b[0;34m\u001b[0m\n\u001b[1;32m      1\u001b[0m \u001b[0;31m# what if you want to join together a string with an integer?\u001b[0m\u001b[0;34m\u001b[0m\u001b[0;34m\u001b[0m\u001b[0m\n\u001b[0;32m----> 2\u001b[0;31m \u001b[0mmyString\u001b[0m \u001b[0;34m+\u001b[0m \u001b[0mx\u001b[0m\u001b[0;34m\u001b[0m\u001b[0;34m\u001b[0m\u001b[0m\n\u001b[0m",
      "\u001b[0;31mTypeError\u001b[0m: can only concatenate str (not \"int\") to str"
     ]
    }
   ],
   "source": [
    "# what if you want to join together a string with an integer?\n",
    "myString + x"
   ]
  },
  {
   "cell_type": "code",
   "execution_count": 34,
   "id": "bae250e2",
   "metadata": {},
   "outputs": [
    {
     "data": {
      "text/plain": [
       "'1'"
      ]
     },
     "execution_count": 34,
     "metadata": {},
     "output_type": "execute_result"
    }
   ],
   "source": [
    "# stack traces are extremely important. \n",
    "# The error message tells us exactly what went wrong, and where.\n",
    "# We can transform the x integer into a string with str()\n",
    "str(x)"
   ]
  },
  {
   "cell_type": "code",
   "execution_count": 37,
   "id": "3b9c4e23",
   "metadata": {},
   "outputs": [
    {
     "name": "stdout",
     "output_type": "stream",
     "text": [
      "The variable 'x' contains the number 1\n"
     ]
    }
   ],
   "source": [
    "newString = \"The variable 'x' contains the number \" + str(x)\n",
    "print(newString)"
   ]
  },
  {
   "cell_type": "code",
   "execution_count": null,
   "id": "119ff6b3",
   "metadata": {},
   "outputs": [],
   "source": []
  }
 ],
 "metadata": {
  "kernelspec": {
   "display_name": "Python 3",
   "language": "python",
   "name": "python3"
  },
  "language_info": {
   "codemirror_mode": {
    "name": "ipython",
    "version": 3
   },
   "file_extension": ".py",
   "mimetype": "text/x-python",
   "name": "python",
   "nbconvert_exporter": "python",
   "pygments_lexer": "ipython3",
   "version": "3.9.7"
  }
 },
 "nbformat": 4,
 "nbformat_minor": 5
}
