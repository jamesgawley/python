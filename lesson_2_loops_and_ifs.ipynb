{
 "cells": [
  {
   "cell_type": "code",
   "execution_count": 2,
   "id": "3eaad1f8",
   "metadata": {},
   "outputs": [
    {
     "name": "stdout",
     "output_type": "stream",
     "text": [
      "11\n",
      "12\n",
      "15\n",
      "9\n"
     ]
    }
   ],
   "source": [
    "# Loops are important 'control flow' statements.\n",
    "# They allow us to pass through lists one item at a time\n",
    "myList = [1, 2, 5, -1]\n",
    "for i in myList:\n",
    "    print(i + 10)\n"
   ]
  },
  {
   "cell_type": "code",
   "execution_count": 13,
   "id": "ef178e2f",
   "metadata": {},
   "outputs": [
    {
     "name": "stdout",
     "output_type": "stream",
     "text": [
      "2\n",
      "3\n",
      "6\n",
      "0\n"
     ]
    }
   ],
   "source": [
    "# notice that the tabs are used to define the statements inside the loop\n",
    "# a blank line without a tab breaks the loop...\n",
    "# but only when we type the code by hand. Python files and packages have blank lines.\n",
    "for i in myList:\n",
    "    # this comment is inside the loop\n",
    "\n",
    "    # statement is not.\n",
    "    print(i + 1)\n",
    "\n",
    "# Python also needs each control structure (loop/if statement/method definition) to use\n",
    "# *either* tabs *or* spaces to create the spacing. You cannot mix them."
   ]
  },
  {
   "cell_type": "code",
   "execution_count": 3,
   "id": "cce331ca",
   "metadata": {},
   "outputs": [
    {
     "data": {
      "text/plain": [
       "4"
      ]
     },
     "execution_count": 3,
     "metadata": {},
     "output_type": "execute_result"
    }
   ],
   "source": [
    "# what if you want to manipulate the list itself?\n",
    "# there are several ways to do this. One uses the list address.\n",
    "# first, generate a list of all the addresses in the list.\n",
    "len(myList)"
   ]
  },
  {
   "cell_type": "code",
   "execution_count": 8,
   "id": "24d4cd29",
   "metadata": {},
   "outputs": [
    {
     "data": {
      "text/plain": [
       "range(0, 4)"
      ]
     },
     "execution_count": 8,
     "metadata": {},
     "output_type": "execute_result"
    }
   ],
   "source": [
    "# range is a special type of object in python.\n",
    "range(4)"
   ]
  },
  {
   "cell_type": "code",
   "execution_count": 9,
   "id": "f2a5aa57",
   "metadata": {},
   "outputs": [
    {
     "name": "stdout",
     "output_type": "stream",
     "text": [
      "0\n",
      "1\n",
      "2\n",
      "3\n"
     ]
    }
   ],
   "source": [
    "# Used in list context, range(0,4) behaves like a list of numbers from 0 to 4.\n",
    "for i in range(0,4):\n",
    "    print(i)"
   ]
  },
  {
   "cell_type": "code",
   "execution_count": 16,
   "id": "6df858b5",
   "metadata": {},
   "outputs": [
    {
     "name": "stdout",
     "output_type": "stream",
     "text": [
      "range(0, 4)\n"
     ]
    }
   ],
   "source": [
    "# but if you look at the object directly, what you get is more like a description of the list.\n",
    "rangeObject = range(0,4)\n",
    "print(rangeObject)"
   ]
  },
  {
   "cell_type": "code",
   "execution_count": 14,
   "id": "1e1575c8",
   "metadata": {},
   "outputs": [
    {
     "name": "stdout",
     "output_type": "stream",
     "text": [
      "[1, 2, 5, -1]\n"
     ]
    }
   ],
   "source": [
    "# by contrast, calling or printing a list returns the entire list\n",
    "print(myList)"
   ]
  },
  {
   "cell_type": "code",
   "execution_count": 17,
   "id": "92a88a7d",
   "metadata": {},
   "outputs": [
    {
     "name": "stdout",
     "output_type": "stream",
     "text": [
      "1\n",
      "2\n",
      "5\n",
      "-1\n"
     ]
    }
   ],
   "source": [
    "# With 'range', the beginning and ending are all you need to know the contents of the list.\n",
    "# ASSIGNMENT 1: write a 'for' loop that uses 'range' to spit out the contents of myList,\n",
    "# one item at a time.\n",
    "for i in rangeObject:\n",
    "    print(myList[i])"
   ]
  },
  {
   "cell_type": "code",
   "execution_count": 18,
   "id": "ea115887",
   "metadata": {},
   "outputs": [
    {
     "name": "stdout",
     "output_type": "stream",
     "text": [
      "[2, 3, 6, 0]\n"
     ]
    }
   ],
   "source": [
    "# ASSIGNMENT 2: write a 'for' loop that changes each value in myList\n",
    "for i in rangeObject:\n",
    "    myList[i] = myList[i] + 1\n",
    "\n",
    "print(myList)"
   ]
  },
  {
   "cell_type": "code",
   "execution_count": 22,
   "id": "77c0ffff",
   "metadata": {},
   "outputs": [
    {
     "data": {
      "text/plain": [
       "[5, 6, 9, 3]"
      ]
     },
     "execution_count": 22,
     "metadata": {},
     "output_type": "execute_result"
    }
   ],
   "source": [
    "# here's another solution, called 'list comprehension'\n",
    "[x + 1 for x in myList]\n"
   ]
  },
  {
   "cell_type": "code",
   "execution_count": 23,
   "id": "0480a1ec",
   "metadata": {},
   "outputs": [
    {
     "name": "stdout",
     "output_type": "stream",
     "text": [
      "[5, 6, 9, 3]\n"
     ]
    }
   ],
   "source": [
    "# by default, the above doesn't change myList.\n",
    "# it generates an entirely new list derived from myList.\n",
    "# but you can store the output of the list comprehension in myList and replace its contents.\n",
    "myList = [x + 1 for x in myList]\n",
    "print(myList)"
   ]
  },
  {
   "cell_type": "code",
   "execution_count": null,
   "id": "dfd665d9",
   "metadata": {},
   "outputs": [],
   "source": [
    "# list comprehensions are faster to process than for loops, even when replacing lists.\n",
    "# but for loops are still critical to program control flow.\n",
    "# This is because some operations are more complex than 'add 1 to each item in my list'."
   ]
  },
  {
   "cell_type": "code",
   "execution_count": 32,
   "id": "c3de2594",
   "metadata": {},
   "outputs": [
    {
     "data": {
      "text/plain": [
       "True"
      ]
     },
     "execution_count": 32,
     "metadata": {},
     "output_type": "execute_result"
    }
   ],
   "source": [
    "# 'True' or 'False' are special values in python.\n",
    "x = 1\n",
    "x == 1"
   ]
  },
  {
   "cell_type": "code",
   "execution_count": 29,
   "id": "7dee8992",
   "metadata": {},
   "outputs": [
    {
     "data": {
      "text/plain": [
       "False"
      ]
     },
     "execution_count": 29,
     "metadata": {},
     "output_type": "execute_result"
    }
   ],
   "source": [
    "# == is called the identity operator in python.\n",
    "# you can also return true or false with strings\n",
    "x = \"Hello, world.\"\n",
    "x == \"What's up, world\""
   ]
  },
  {
   "cell_type": "code",
   "execution_count": 30,
   "id": "4fdf0329",
   "metadata": {},
   "outputs": [
    {
     "data": {
      "text/plain": [
       "True"
      ]
     },
     "execution_count": 30,
     "metadata": {},
     "output_type": "execute_result"
    }
   ],
   "source": [
    "# numerical values can also be compared to each other\n",
    "2 < 3"
   ]
  },
  {
   "cell_type": "code",
   "execution_count": 33,
   "id": "17b84dc1",
   "metadata": {},
   "outputs": [
    {
     "data": {
      "text/plain": [
       "False"
      ]
     },
     "execution_count": 33,
     "metadata": {},
     "output_type": "execute_result"
    }
   ],
   "source": [
    "x > 3"
   ]
  },
  {
   "cell_type": "code",
   "execution_count": 34,
   "id": "d9f7bb5a",
   "metadata": {},
   "outputs": [
    {
     "name": "stdout",
     "output_type": "stream",
     "text": [
      "Maybe someday, x\n"
     ]
    }
   ],
   "source": [
    "# if statements are the next control flow operators to cover\n",
    "# the 'if' statement expects 'True' or 'False'\n",
    "# if it receives 'True', its code block will be executed\n",
    "# if it receives 'False', it will be bypassed\n",
    "if x > 3:\n",
    "    print(\"Hooray for x!\")\n",
    "else:\n",
    "    print(\"Maybe someday, x\")"
   ]
  },
  {
   "cell_type": "code",
   "execution_count": null,
   "id": "b8e29db1",
   "metadata": {},
   "outputs": [],
   "source": [
    "# Assignment: write a for loop that iterates over myList and prints all numbers greater than 3\n"
   ]
  }
 ],
 "metadata": {
  "kernelspec": {
   "display_name": "Python 3",
   "language": "python",
   "name": "python3"
  },
  "language_info": {
   "codemirror_mode": {
    "name": "ipython",
    "version": 3
   },
   "file_extension": ".py",
   "mimetype": "text/x-python",
   "name": "python",
   "nbconvert_exporter": "python",
   "pygments_lexer": "ipython3",
   "version": "3.9.7"
  }
 },
 "nbformat": 4,
 "nbformat_minor": 5
}
