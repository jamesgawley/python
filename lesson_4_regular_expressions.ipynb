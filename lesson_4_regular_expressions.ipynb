{
 "cells": [
  {
   "cell_type": "code",
   "execution_count": null,
   "id": "bce23b54",
   "metadata": {},
   "outputs": [],
   "source": [
    "# the 're' package is used for regular expressions.\n",
    "import re"
   ]
  },
  {
   "cell_type": "code",
   "execution_count": 21,
   "id": "d1c238ba",
   "metadata": {},
   "outputs": [
    {
     "data": {
      "text/plain": [
       "['I',\n",
       " 'want',\n",
       " 're',\n",
       " 'to',\n",
       " 'find',\n",
       " 'every',\n",
       " 'letter',\n",
       " 'character',\n",
       " 'and',\n",
       " 'nothing',\n",
       " 'else']"
      ]
     },
     "execution_count": 21,
     "metadata": {},
     "output_type": "execute_result"
    }
   ],
   "source": [
    "# regular expressions are a way of specifying complicated strings of *potential* characters.\n",
    "# it's like algebra for language.\n",
    "# for example, the \\w special character matches all letters.\n",
    "\n",
    "re.findall(\"\\w+\", \"I want 're' to find every letter character and nothing else.\")\n"
   ]
  },
  {
   "cell_type": "code",
   "execution_count": 24,
   "id": "9a7390ac",
   "metadata": {},
   "outputs": [
    {
     "data": {
      "text/plain": [
       "[' ', ' ', ' ', \" '\", \"' \", ' ', ' ', ' ', '.']"
      ]
     },
     "execution_count": 24,
     "metadata": {},
     "output_type": "execute_result"
    }
   ],
   "source": [
    "# all special characters can be inverted, to find things that *aren't* in that class.\n",
    "# for example, \\W (with a capital 'W') matches everything *but* letters.\n",
    "re.findall(\"\\W+\", \"All I want to 'see' is spaces and punctuation.\")"
   ]
  },
  {
   "cell_type": "code",
   "execution_count": 25,
   "id": "ae3a12a7",
   "metadata": {},
   "outputs": [
    {
     "name": "stdout",
     "output_type": "stream",
     "text": [
      "Help on Match object:\n",
      "\n",
      "class Match(builtins.object)\n",
      " |  The result of re.match() and re.search().\n",
      " |  Match objects always have a boolean value of True.\n",
      " |  \n",
      " |  Methods defined here:\n",
      " |  \n",
      " |  __copy__(self, /)\n",
      " |  \n",
      " |  __deepcopy__(self, memo, /)\n",
      " |  \n",
      " |  __getitem__(self, key, /)\n",
      " |      Return self[key].\n",
      " |  \n",
      " |  __repr__(self, /)\n",
      " |      Return repr(self).\n",
      " |  \n",
      " |  end(self, group=0, /)\n",
      " |      Return index of the end of the substring matched by group.\n",
      " |  \n",
      " |  expand(self, /, template)\n",
      " |      Return the string obtained by doing backslash substitution on the string template, as done by the sub() method.\n",
      " |  \n",
      " |  group(...)\n",
      " |      group([group1, ...]) -> str or tuple.\n",
      " |      Return subgroup(s) of the match by indices or names.\n",
      " |      For 0 returns the entire match.\n",
      " |  \n",
      " |  groupdict(self, /, default=None)\n",
      " |      Return a dictionary containing all the named subgroups of the match, keyed by the subgroup name.\n",
      " |      \n",
      " |      default\n",
      " |        Is used for groups that did not participate in the match.\n",
      " |  \n",
      " |  groups(self, /, default=None)\n",
      " |      Return a tuple containing all the subgroups of the match, from 1.\n",
      " |      \n",
      " |      default\n",
      " |        Is used for groups that did not participate in the match.\n",
      " |  \n",
      " |  span(self, group=0, /)\n",
      " |      For match object m, return the 2-tuple (m.start(group), m.end(group)).\n",
      " |  \n",
      " |  start(self, group=0, /)\n",
      " |      Return index of the start of the substring matched by group.\n",
      " |  \n",
      " |  ----------------------------------------------------------------------\n",
      " |  Class methods defined here:\n",
      " |  \n",
      " |  __class_getitem__(...) from builtins.type\n",
      " |      See PEP 585\n",
      " |  \n",
      " |  ----------------------------------------------------------------------\n",
      " |  Data descriptors defined here:\n",
      " |  \n",
      " |  endpos\n",
      " |      The index into the string beyond which the RE engine will not go.\n",
      " |  \n",
      " |  lastgroup\n",
      " |      The name of the last matched capturing group.\n",
      " |  \n",
      " |  lastindex\n",
      " |      The integer index of the last matched capturing group.\n",
      " |  \n",
      " |  pos\n",
      " |      The index into the string at which the RE engine started looking for a match.\n",
      " |  \n",
      " |  re\n",
      " |      The regular expression object.\n",
      " |  \n",
      " |  regs\n",
      " |  \n",
      " |  string\n",
      " |      The string passed to match() or search().\n",
      "\n"
     ]
    }
   ],
   "source": [
    "# regular expressions start reading on the left and move to the right.\n",
    "# the re package can do things a little oddly. For example, 'search' returns a complex object.\n",
    "x = re.search(\"\\d\", \"In 1753 Voltaire was thrown in the Bastille.\")\n",
    "help(x)"
   ]
  },
  {
   "cell_type": "code",
   "execution_count": 51,
   "id": "df3b13b2",
   "metadata": {},
   "outputs": [
    {
     "data": {
      "text/plain": [
       "['In', 'V', 'ltaire', 'was', 'thrown', 'in', 'the', 'Bastille-']"
      ]
     },
     "execution_count": 51,
     "metadata": {},
     "output_type": "execute_result"
    }
   ],
   "source": [
    "# to view the matched string, you have to use the object's group() method.\n",
    "re.findall(\"[\\A\\\\-]+\", \"In 1753 Völtaire was thrown in the Bastille-.\")\n"
   ]
  },
  {
   "cell_type": "code",
   "execution_count": 27,
   "id": "d2f22874",
   "metadata": {},
   "outputs": [
    {
     "data": {
      "text/plain": [
       "'1753'"
      ]
     },
     "execution_count": 27,
     "metadata": {},
     "output_type": "execute_result"
    }
   ],
   "source": [
    "# in the example below, the pattern did not match the numbers after 1.\n",
    "# 're' began on the left, moved right until it met the conditions specified, and stopped.\n",
    "# to specify repeating patterns, we can use the + operator\n",
    "x = re.search(\"\\d+\", \"In 1753 Voltaire was thrown in the Bastille.\")\n",
    "x.group()"
   ]
  },
  {
   "cell_type": "code",
   "execution_count": 33,
   "id": "404f7403",
   "metadata": {},
   "outputs": [
    {
     "data": {
      "text/plain": [
       "['17', '.1234']"
      ]
     },
     "execution_count": 33,
     "metadata": {},
     "output_type": "execute_result"
    }
   ],
   "source": [
    "# the + operator means 'extend this pattern as many times as it continues'\n",
    "# you can design your own class of patterns by listing the desired matches in brackets:\n",
    "re.findall(\"[0-7.]+\", \"In 1799 Voltaire was thrown in the Bastille.1234\")\n"
   ]
  },
  {
   "cell_type": "code",
   "execution_count": 57,
   "id": "6b04c874",
   "metadata": {},
   "outputs": [
    {
     "data": {
      "text/plain": [
       "'In 75 oltaire was thrown in the Bastille'"
      ]
     },
     "execution_count": 57,
     "metadata": {},
     "output_type": "execute_result"
    }
   ],
   "source": [
    "# you can replace or remove sequences with re.sub()\n",
    "re.sub(\"[Vv13.]\", \"\", \"In 1753 Voltaire was thrown in the Bastille.\")"
   ]
  },
  {
   "cell_type": "code",
   "execution_count": 62,
   "id": "5821f4fd",
   "metadata": {},
   "outputs": [
    {
     "data": {
      "text/plain": [
       "'i am speaking very loudly'"
      ]
     },
     "execution_count": 62,
     "metadata": {},
     "output_type": "execute_result"
    }
   ],
   "source": [
    "# ASSIGNMENT: write a function to 'clean' the strings from the texts we loaded yesterday.\n",
    "# First, decide what you want to remove.\n",
    "# Second, design and test a regular expression to remove those characters/patterns\n",
    "# Third, define a function that receives a string, modifies it, and returns the new version\n",
    "# TIP: all string objects in python have a .lower() method to make them lowercase\n",
    "\"I AM SPEAKING VERY LOUDLY\".lower()\n"
   ]
  },
  {
   "cell_type": "code",
   "execution_count": null,
   "id": "20fd7046",
   "metadata": {},
   "outputs": [],
   "source": []
  }
 ],
 "metadata": {
  "kernelspec": {
   "display_name": "Python 3",
   "language": "python",
   "name": "python3"
  },
  "language_info": {
   "codemirror_mode": {
    "name": "ipython",
    "version": 3
   },
   "file_extension": ".py",
   "mimetype": "text/x-python",
   "name": "python",
   "nbconvert_exporter": "python",
   "pygments_lexer": "ipython3",
   "version": "3.9.7"
  }
 },
 "nbformat": 4,
 "nbformat_minor": 5
}
